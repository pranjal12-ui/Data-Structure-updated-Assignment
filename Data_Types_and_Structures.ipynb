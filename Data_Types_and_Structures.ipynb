{
  "nbformat": 4,
  "nbformat_minor": 0,
  "metadata": {
    "colab": {
      "provenance": []
    },
    "kernelspec": {
      "name": "python3",
      "display_name": "Python 3"
    },
    "language_info": {
      "name": "python"
    }
  },
  "cells": [
    {
      "cell_type": "markdown",
      "source": [
        "\n",
        "**THEORY SOLUTIONS**"
      ],
      "metadata": {
        "id": "KXsfKH3F8vag"
      }
    },
    {
      "cell_type": "markdown",
      "source": [
        "1.What are data structures, and why are they important?\n",
        "  - Data Structures are the way of storing and organizing data,\n",
        "  -It is important because any stored data can be easily accessed and changed as per the requiremnets easily."
      ],
      "metadata": {
        "id": "eUtefE4-fSr4"
      }
    },
    {
      "cell_type": "markdown",
      "source": [
        "2.Explain the difference between mutable and immutable data types with examples\n",
        "- Mutable data types can be changed and thus support item assignment.Example List,Sets,Dictionaries.\n",
        "-Immutable data types cannot be changed once created. Example Tuple,Strings."
      ],
      "metadata": {
        "id": "1Zc9ujvZfifB"
      }
    },
    {
      "cell_type": "markdown",
      "source": [
        "3.What are the main differences between lists and tuples in Python?\n",
        " - Lists are the ordered form of storing data type which is mutable and support item assignment,while tuples are the form of data structure which is immutable and does not support item assignment."
      ],
      "metadata": {
        "id": "mZvYCwWKkhFf"
      }
    },
    {
      "cell_type": "markdown",
      "source": [
        "4.Describe how dictionaries store data.\n",
        "- Dictionaries store data in the form of keys,values pairs ,which are muttable and accesable."
      ],
      "metadata": {
        "id": "NNpuX0i_lE2p"
      }
    },
    {
      "cell_type": "markdown",
      "source": [
        "5.Why might you use a set instead of a list in Python?\n",
        "- Because set is a form of data structure which gives the unique data and store the data in unordered form,while the list gives the whole data not maintaining the uniquenss of data ."
      ],
      "metadata": {
        "id": "cNkvm7IlltzT"
      }
    },
    {
      "cell_type": "markdown",
      "source": [
        "6.What is a string in Python, and how is it different from a list?\n",
        "- String is the sequence of character, which is used to represent and manupilate the textual data.\n",
        "-String is immutable while list is muttable."
      ],
      "metadata": {
        "id": "qFt1onNKluAp"
      }
    },
    {
      "cell_type": "markdown",
      "source": [
        "7.How do tuples ensure data integrity in Python?\n",
        " - Tuples are the data structure which are immutable so it is used to store the data which is permanent. Also tuples are the Hashable form of data type thus maintaining the python integrity."
      ],
      "metadata": {
        "id": "KrqWLgqPluO_"
      }
    },
    {
      "cell_type": "markdown",
      "source": [
        "8.What is a hash table, and how does it relate to dictionaries in Python\n",
        "- A hash table is the particular way of storing data in the associative manner.Each value has assigned a specific key,which generates a hash code.\n",
        "- So when the data is need to be retrieved in dictionaries a particular key is used having a specific hash code.\n",
        "- Example= details={\"pranjal\":100,\"nandini\":90,\"vaishnavi\":90}\n",
        "print(\"The marks of Pranjal is\", details[\"Pranjal\"]"
      ],
      "metadata": {
        "id": "tTtQC335luc7"
      }
    },
    {
      "cell_type": "markdown",
      "source": [
        "9.Can lists contain different data types in Python?\n",
        "- Yes, list can store ordered and heterogenous form of data type ."
      ],
      "metadata": {
        "id": "c8qBXD6OluoI"
      }
    },
    {
      "cell_type": "markdown",
      "source": [
        "10.Explain why strings are immutable in Python.\n",
        "- Because Stings does not support item assignment.\n",
        "-They has Hashability.\n",
        "-They cannot be changed so used for python optimiztion as python can execute a code containing string knowing string won't change"
      ],
      "metadata": {
        "id": "GSP6LaJ9luxa"
      }
    },
    {
      "cell_type": "markdown",
      "source": [
        "11.What advantages do dictionaries offer over lists for certain tasks?\n",
        "- Dictonaries are used to store data in the form of keys value pairs which is better for storing product code, user id and password.\n",
        "-but in case of list data is stored in a ordered and heterogenous data better for storing data in a continious form."
      ],
      "metadata": {
        "id": "eCnyewlplu08"
      }
    },
    {
      "cell_type": "markdown",
      "source": [
        "12.Describe a scenario where using a tuple would be preferable over a list?\n",
        " - Tuples are immutable so it is useful for storing a data which is constant.\n",
        "  Example Aurangabad=(Founded: 1610\n",
        "Area: 141 km²)"
      ],
      "metadata": {
        "id": "XCSwK-c7lu5A"
      }
    },
    {
      "cell_type": "markdown",
      "source": [
        "13.How do sets handle duplicate values in Python?\n",
        " - Sets give unique data when the code is run\n",
        " -So s={1,2,2,2,34,56,}\n",
        " print(s)\n",
        " {1,2,34,56}\n",
        " -Sets automatically eliminate the duplicate value,as shown in the example."
      ],
      "metadata": {
        "id": "gIFZdppzlu8D"
      }
    },
    {
      "cell_type": "markdown",
      "source": [
        "14.How does the “in” keyword work differently for lists and dictionaries?\n",
        "- Example, a=[1,2,3,4,5]\n",
        "1 in a , #thus it is used to find a particular value in the list\n",
        "-a={'pranjal':100,'nandini':90}\n",
        "'pranjal' in a #thus it is use to find a particular key in a dictionary.\n"
      ],
      "metadata": {
        "id": "Dx5qIU1Alu-2"
      }
    },
    {
      "cell_type": "markdown",
      "source": [
        "15.Can you modify the elements of a tuple? Explain why or why not\n",
        " - No, the elements cannot be modified in the tuples because tuples are immutable\n",
        " - They have a stable hash value"
      ],
      "metadata": {
        "id": "JLWIzVuBlvBR"
      }
    },
    {
      "cell_type": "markdown",
      "source": [
        "16.What is a nested dictionary, and give an example of its use case?\n",
        "- Nested Dictionary is the dictionory having another dictionary in it,\n",
        "-For example storing the student data in a particular format , Student={Name:Pranjal, Age:22, Subject[Data Analysis,Cosmetics]}\n",
        "\n"
      ],
      "metadata": {
        "id": "TQrCJ4y7lvE2"
      }
    },
    {
      "cell_type": "markdown",
      "source": [
        "17 Describe the time complexity of accessing elements in a dictionary?\n",
        " - In dictionaries if you want to access the data you have to access it via a key or a value no direct indexing or slicing is possible in the dictionary.\n"
      ],
      "metadata": {
        "id": "tlQLQDgBVBo2"
      }
    },
    {
      "cell_type": "markdown",
      "source": [
        "18 In what situations are lists preferred over dictionaries?\n",
        "- Lists are preffered over dictionaries when data is not meant to be stored in the form of key value pairs, thus in the situation where a heterogenous data is used to store with no special category."
      ],
      "metadata": {
        "id": "1NNMZzPIVC0a"
      }
    },
    {
      "cell_type": "markdown",
      "source": [
        "19 Why are dictionaries considered unordered, and how does that affect data retrieval?\n",
        "- Because the data is stored in the key value form which does not guarantee a ordererd storing ,the main moto is fast data retrieval which is possible via accessing through key or value.\n"
      ],
      "metadata": {
        "id": "QfD41OixVEHt"
      }
    },
    {
      "cell_type": "markdown",
      "source": [
        "20.Explain the difference between a list and a dictionary in terms of data retrieval\n",
        "- In case of list the data can be retrieved by indexing or slicing.\n",
        "-In casse of dictionary the can be retrieved by key or value pairs as per the requirement."
      ],
      "metadata": {
        "id": "VGigeR97VpNK"
      }
    },
    {
      "cell_type": "markdown",
      "source": [
        "**PRACTICAL SOLUTIONS**"
      ],
      "metadata": {
        "id": "8JJpysQ9ikKH"
      }
    },
    {
      "cell_type": "markdown",
      "source": [
        "1.Write a code to create a string with your name and print it\n"
      ],
      "metadata": {
        "id": "kqzbY-h489Nc"
      }
    },
    {
      "cell_type": "code",
      "source": [
        "Name=\"Pranjal\"\n",
        "print(\"My name is\", Name)"
      ],
      "metadata": {
        "colab": {
          "base_uri": "https://localhost:8080/"
        },
        "id": "viY1zEmV9HR6",
        "outputId": "2df84e9f-965a-4f5d-c9ee-fbf159c5da94"
      },
      "execution_count": null,
      "outputs": [
        {
          "output_type": "stream",
          "name": "stdout",
          "text": [
            "My name is Pranjal\n"
          ]
        }
      ]
    },
    {
      "cell_type": "markdown",
      "source": [
        "2.Write a code to find the length of the string \"Hello World\""
      ],
      "metadata": {
        "id": "dSeH5rb1-SLG"
      }
    },
    {
      "cell_type": "code",
      "source": [
        "Word=\"Hello World\"\n",
        "len(Word)"
      ],
      "metadata": {
        "colab": {
          "base_uri": "https://localhost:8080/"
        },
        "id": "709mF3RM-Wgx",
        "outputId": "33c4f97f-125e-4a37-e560-e0dd465f800b"
      },
      "execution_count": null,
      "outputs": [
        {
          "output_type": "execute_result",
          "data": {
            "text/plain": [
              "11"
            ]
          },
          "metadata": {},
          "execution_count": 7
        }
      ]
    },
    {
      "cell_type": "markdown",
      "source": [
        "3.Write a code to slice the first 3 characters from the string \"Python Programming\"."
      ],
      "metadata": {
        "id": "9Q5ZMORx-olz"
      }
    },
    {
      "cell_type": "code",
      "source": [
        "A=('Python Programming')\n",
        "Value=A[:3]\n",
        "print(\"the slice of first 3 character is\", Value)"
      ],
      "metadata": {
        "colab": {
          "base_uri": "https://localhost:8080/"
        },
        "id": "3eIIPG5h-Vws",
        "outputId": "cfcfca6d-04cb-43e0-a757-a1d90ea2c838"
      },
      "execution_count": null,
      "outputs": [
        {
          "output_type": "stream",
          "name": "stdout",
          "text": [
            "the slice of first 3 character is Pyt\n"
          ]
        }
      ]
    },
    {
      "cell_type": "markdown",
      "source": [
        "4.Write a code to convert the string \"hello\" to uppercase."
      ],
      "metadata": {
        "id": "mW6hmg55AC3s"
      }
    },
    {
      "cell_type": "code",
      "source": [
        "string='hello'\n",
        "S=string.upper()\n",
        "print(S)\n"
      ],
      "metadata": {
        "colab": {
          "base_uri": "https://localhost:8080/"
        },
        "id": "G1kSrFTNAG7Q",
        "outputId": "4e58a1f8-f921-4063-8dce-2bc4a93de5bb"
      },
      "execution_count": null,
      "outputs": [
        {
          "output_type": "stream",
          "name": "stdout",
          "text": [
            "HELLO\n"
          ]
        }
      ]
    },
    {
      "cell_type": "markdown",
      "source": [
        "5.Write a code to replace the word \"apple\" with \"orange\" in the string \"I like apple\"."
      ],
      "metadata": {
        "id": "7dZ6fz3gA2Wr"
      }
    },
    {
      "cell_type": "code",
      "source": [
        "Sent_given=(\"i like apple\")\n",
        "Fav=Sent_given.replace(\"apple\", \"orange\")\n",
        "print(Fav)"
      ],
      "metadata": {
        "id": "qt1h9SD5ACi8",
        "colab": {
          "base_uri": "https://localhost:8080/"
        },
        "outputId": "6c20d871-2578-4bdb-c729-2c8016c48815"
      },
      "execution_count": null,
      "outputs": [
        {
          "output_type": "stream",
          "name": "stdout",
          "text": [
            "i like orange\n"
          ]
        }
      ]
    },
    {
      "cell_type": "markdown",
      "source": [
        "6.Write a code to create a list with numbers 1 to 5 and print it\n"
      ],
      "metadata": {
        "id": "RQTNNFuwBVdN"
      }
    },
    {
      "cell_type": "code",
      "source": [
        "A_list=list(range (1,6))\n",
        "print(A_list)"
      ],
      "metadata": {
        "colab": {
          "base_uri": "https://localhost:8080/"
        },
        "id": "BRdt_jicBcNo",
        "outputId": "f06e5c8d-f2b8-4d9e-e2a2-01a9610a45c3"
      },
      "execution_count": null,
      "outputs": [
        {
          "output_type": "stream",
          "name": "stdout",
          "text": [
            "[1, 2, 3, 4, 5]\n"
          ]
        }
      ]
    },
    {
      "cell_type": "code",
      "source": [
        "type(A_list)"
      ],
      "metadata": {
        "colab": {
          "base_uri": "https://localhost:8080/"
        },
        "id": "BRVGNkP6BRQZ",
        "outputId": "3706c327-be69-4770-9e13-3336c647f5eb"
      },
      "execution_count": null,
      "outputs": [
        {
          "output_type": "execute_result",
          "data": {
            "text/plain": [
              "list"
            ]
          },
          "metadata": {},
          "execution_count": 32
        }
      ]
    },
    {
      "cell_type": "markdown",
      "source": [
        "7.Write a code to append the number 10 to the list [1, 2, 3, 4]."
      ],
      "metadata": {
        "id": "6vtJ6JGQCl3L"
      }
    },
    {
      "cell_type": "code",
      "source": [
        "Num_order=[1,2,3,4]\n",
        "Num_order.append(10)\n",
        "print(Num_order)"
      ],
      "metadata": {
        "colab": {
          "base_uri": "https://localhost:8080/"
        },
        "id": "N9QE_JAkCujL",
        "outputId": "5e81a8c6-d0d8-4698-ac56-fb5b04f9db5a"
      },
      "execution_count": null,
      "outputs": [
        {
          "output_type": "stream",
          "name": "stdout",
          "text": [
            "[1, 2, 3, 4, 10]\n"
          ]
        }
      ]
    },
    {
      "cell_type": "markdown",
      "source": [
        "8.Write a code to remove the number 3 from the list [1, 2, 3, 4, 5]."
      ],
      "metadata": {
        "id": "i9PBsQLcDB2F"
      }
    },
    {
      "cell_type": "code",
      "source": [
        "my_list=[1,2,3,4,5]\n",
        "my_list.remove(3)\n",
        "print(my_list)\n"
      ],
      "metadata": {
        "colab": {
          "base_uri": "https://localhost:8080/"
        },
        "id": "gWirlTzLDH8m",
        "outputId": "ed874fc1-ae7f-4f6e-ae53-4776fd8255c8"
      },
      "execution_count": null,
      "outputs": [
        {
          "output_type": "stream",
          "name": "stdout",
          "text": [
            "[1, 2, 4, 5]\n"
          ]
        }
      ]
    },
    {
      "cell_type": "markdown",
      "source": [
        "9.Write a code to access the second element in the list ['a', 'b', 'c', 'd']."
      ],
      "metadata": {
        "id": "DkBNfYadDbUW"
      }
    },
    {
      "cell_type": "code",
      "source": [
        "p=['a','b','c','d']\n",
        "word=p[2]\n",
        "print('The second element in the list', word)\n"
      ],
      "metadata": {
        "colab": {
          "base_uri": "https://localhost:8080/"
        },
        "id": "a4NVFNkXC_r2",
        "outputId": "8223af90-68f1-4661-9054-354d3b0d3a11"
      },
      "execution_count": null,
      "outputs": [
        {
          "output_type": "stream",
          "name": "stdout",
          "text": [
            "The second element in the list c\n"
          ]
        }
      ]
    },
    {
      "cell_type": "markdown",
      "source": [
        "10.Write a code to reverse the list [10, 20, 30, 40, 50]."
      ],
      "metadata": {
        "id": "xgbKHPiaEDAH"
      }
    },
    {
      "cell_type": "code",
      "source": [
        "my_bag=[10, 20, 30, 40, 50]\n"
      ],
      "metadata": {
        "id": "53KU4doYDqA0"
      },
      "execution_count": null,
      "outputs": []
    },
    {
      "cell_type": "code",
      "source": [
        "#1\n",
        "my_bag[::-1]\n"
      ],
      "metadata": {
        "colab": {
          "base_uri": "https://localhost:8080/"
        },
        "id": "Ia-JNMuvEWrN",
        "outputId": "2945ca83-80a8-470a-e92b-eb6387f5edb0"
      },
      "execution_count": null,
      "outputs": [
        {
          "output_type": "execute_result",
          "data": {
            "text/plain": [
              "[50, 40, 30, 20, 10]"
            ]
          },
          "metadata": {},
          "execution_count": 53
        }
      ]
    },
    {
      "cell_type": "code",
      "source": [
        "#2\n",
        "\n",
        "my_list=[10,20,30,40,50]\n",
        "\n",
        "my_list.reverse()\n",
        "my_list"
      ],
      "metadata": {
        "colab": {
          "base_uri": "https://localhost:8080/"
        },
        "id": "tK-YB2biEnrV",
        "outputId": "16945b7f-16e0-4342-b139-9e39c480e370"
      },
      "execution_count": null,
      "outputs": [
        {
          "output_type": "execute_result",
          "data": {
            "text/plain": [
              "[50, 40, 30, 20, 10]"
            ]
          },
          "metadata": {},
          "execution_count": 57
        }
      ]
    },
    {
      "cell_type": "markdown",
      "source": [
        "11. Write a code to create a tuple with the elements 100, 200, 300 and print it"
      ],
      "metadata": {
        "id": "oMLath9_FVkF"
      }
    },
    {
      "cell_type": "code",
      "source": [
        "Value_given=(100,200,300)\n",
        "type(Value_given)"
      ],
      "metadata": {
        "colab": {
          "base_uri": "https://localhost:8080/"
        },
        "id": "M24M5SJqFAp-",
        "outputId": "df60a702-ed37-4812-9a28-ef0b747a51ae"
      },
      "execution_count": null,
      "outputs": [
        {
          "output_type": "execute_result",
          "data": {
            "text/plain": [
              "tuple"
            ]
          },
          "metadata": {},
          "execution_count": 58
        }
      ]
    },
    {
      "cell_type": "code",
      "source": [
        "print( 'My tuple values are' ,Value_given)"
      ],
      "metadata": {
        "colab": {
          "base_uri": "https://localhost:8080/"
        },
        "id": "79stU0RQFrpb",
        "outputId": "f9f0baad-dde8-4883-f9b9-1bf068d9fadc"
      },
      "execution_count": null,
      "outputs": [
        {
          "output_type": "stream",
          "name": "stdout",
          "text": [
            "My tuple values are (100, 200, 300)\n"
          ]
        }
      ]
    },
    {
      "cell_type": "markdown",
      "source": [
        "12.Write a code to access the second-to-last element of the tuple ('red', 'green', 'blue', 'yellow')."
      ],
      "metadata": {
        "id": "rhKdTaGbGOGr"
      }
    },
    {
      "cell_type": "code",
      "source": [
        "colours=('red', 'green', 'blue', 'yellow')\n",
        "New_colour=colours[-2]\n",
        "print('The Second to last element of tuple',New_colour)"
      ],
      "metadata": {
        "id": "uPWl_HU-GEKX",
        "colab": {
          "base_uri": "https://localhost:8080/"
        },
        "outputId": "60ec85e1-b98f-4725-a222-e1b793b85ae1"
      },
      "execution_count": null,
      "outputs": [
        {
          "output_type": "stream",
          "name": "stdout",
          "text": [
            "The Second to last element of tuple blue\n"
          ]
        }
      ]
    },
    {
      "cell_type": "markdown",
      "source": [
        "13.Write a code to find the minimum number in the tuple (10, 20, 5, 15)."
      ],
      "metadata": {
        "id": "gFGGnzApHGZr"
      }
    },
    {
      "cell_type": "code",
      "source": [
        "Min_value= (10, 20, 5, 15)\n",
        "a=min(Min_value)\n",
        "print('The minimum value of given tuple is', a )"
      ],
      "metadata": {
        "colab": {
          "base_uri": "https://localhost:8080/"
        },
        "id": "ZmMSJnS2Fw3P",
        "outputId": "c7f1adcc-a0dc-4567-aed9-9974a21edf1b"
      },
      "execution_count": null,
      "outputs": [
        {
          "output_type": "stream",
          "name": "stdout",
          "text": [
            "The minimum value of given tuple is 5\n"
          ]
        }
      ]
    },
    {
      "cell_type": "markdown",
      "source": [
        "14.Write a code to find the index of the element \"cat\" in the tuple ('dog', 'cat', 'rabbit')."
      ],
      "metadata": {
        "id": "qdW9D6Q4H5hC"
      }
    },
    {
      "cell_type": "code",
      "source": [
        "Animals=('dog', 'cat', 'rabbit')\n",
        "Animals.index('cat')"
      ],
      "metadata": {
        "id": "qEnzuIxwHU0c"
      },
      "execution_count": null,
      "outputs": []
    },
    {
      "cell_type": "markdown",
      "source": [
        "15.Write a code to create a tuple containing three different fruits and check if \"kiwi\" is in it"
      ],
      "metadata": {
        "id": "yxYA8SIJDS_4"
      }
    },
    {
      "cell_type": "code",
      "source": [
        "fruits_list=('Mango','banana','kiwi')\n",
        "fruits_list"
      ],
      "metadata": {
        "colab": {
          "base_uri": "https://localhost:8080/"
        },
        "id": "RSUrnANrDj0z",
        "outputId": "b62c3fd2-17f8-48ae-f9f5-cc8df96bde62"
      },
      "execution_count": null,
      "outputs": [
        {
          "output_type": "execute_result",
          "data": {
            "text/plain": [
              "('Mango', 'banana', 'kiwi')"
            ]
          },
          "metadata": {},
          "execution_count": 1
        }
      ]
    },
    {
      "cell_type": "code",
      "source": [
        "type(fruits_list)"
      ],
      "metadata": {
        "colab": {
          "base_uri": "https://localhost:8080/"
        },
        "id": "qEWO7nAtD81c",
        "outputId": "371cd6b6-0063-4c2f-d587-c9f57321cf75"
      },
      "execution_count": null,
      "outputs": [
        {
          "output_type": "execute_result",
          "data": {
            "text/plain": [
              "tuple"
            ]
          },
          "metadata": {},
          "execution_count": 2
        }
      ]
    },
    {
      "cell_type": "code",
      "source": [
        "fruits_list[2]"
      ],
      "metadata": {
        "colab": {
          "base_uri": "https://localhost:8080/",
          "height": 36
        },
        "id": "1XL5XeZmEDzr",
        "outputId": "f13a5b11-eb2e-4ca6-a04f-cf719c6d3ea1"
      },
      "execution_count": null,
      "outputs": [
        {
          "output_type": "execute_result",
          "data": {
            "text/plain": [
              "'kiwi'"
            ],
            "application/vnd.google.colaboratory.intrinsic+json": {
              "type": "string"
            }
          },
          "metadata": {},
          "execution_count": 4
        }
      ]
    },
    {
      "cell_type": "markdown",
      "source": [
        "16.Write a code to create a set with the elements 'a', 'b', 'c' and print it."
      ],
      "metadata": {
        "id": "8QOrmR9KEYQj"
      }
    },
    {
      "cell_type": "code",
      "source": [
        "Value={'a','b','c'}\n",
        "print('the set with elements are', ( Value))"
      ],
      "metadata": {
        "id": "ba9PFcu_EQTn",
        "colab": {
          "base_uri": "https://localhost:8080/"
        },
        "outputId": "31eb5427-0acc-423d-be71-580b8066195c"
      },
      "execution_count": null,
      "outputs": [
        {
          "output_type": "stream",
          "name": "stdout",
          "text": [
            "the set with elements are {'c', 'b', 'a'}\n"
          ]
        }
      ]
    },
    {
      "cell_type": "code",
      "source": [
        "print(f'the set with the elemrnts are{Value}')"
      ],
      "metadata": {
        "colab": {
          "base_uri": "https://localhost:8080/"
        },
        "id": "5dFUG9HQA8iO",
        "outputId": "84670c59-47a8-48b8-c6b4-784a47b425fb"
      },
      "execution_count": null,
      "outputs": [
        {
          "output_type": "stream",
          "name": "stdout",
          "text": [
            "the set with the elemrnts are{'c', 'b', 'a'}\n"
          ]
        }
      ]
    },
    {
      "cell_type": "markdown",
      "source": [
        "17.Write a code to clear all elements from the set {1, 2, 3, 4, 5}."
      ],
      "metadata": {
        "id": "iyqDrMzpB79-"
      }
    },
    {
      "cell_type": "code",
      "source": [
        "A={1, 2, 3, 4, 5}\n",
        "A.clear()\n",
        "A"
      ],
      "metadata": {
        "colab": {
          "base_uri": "https://localhost:8080/"
        },
        "id": "3qovEJehB2YK",
        "outputId": "d10d313a-efe2-44d5-f531-f743c8cd70da"
      },
      "execution_count": null,
      "outputs": [
        {
          "output_type": "execute_result",
          "data": {
            "text/plain": [
              "set()"
            ]
          },
          "metadata": {},
          "execution_count": 12
        }
      ]
    },
    {
      "cell_type": "markdown",
      "source": [
        "18.Write a code to remove the element 4 from the set {1, 2, 3, 4}."
      ],
      "metadata": {
        "id": "ostS1DNFCWTe"
      }
    },
    {
      "cell_type": "code",
      "source": [
        "s={1,2,3,4}\n",
        "s.remove(4)\n",
        "s"
      ],
      "metadata": {
        "colab": {
          "base_uri": "https://localhost:8080/"
        },
        "id": "jkUHeZqaCMjN",
        "outputId": "e41fc3fc-a0a4-47c2-879a-aa71ddda8c40"
      },
      "execution_count": null,
      "outputs": [
        {
          "output_type": "execute_result",
          "data": {
            "text/plain": [
              "{1, 2, 3}"
            ]
          },
          "metadata": {},
          "execution_count": 14
        }
      ]
    },
    {
      "cell_type": "markdown",
      "source": [
        "19. Write a code to find the union of two sets {1, 2, 3} and {3, 4, 5}"
      ],
      "metadata": {
        "id": "7-KOMbx6DSkq"
      }
    },
    {
      "cell_type": "code",
      "source": [
        "A1={1,2,3}\n",
        "A2={3,4,5}\n",
        "A1|A2"
      ],
      "metadata": {
        "colab": {
          "base_uri": "https://localhost:8080/"
        },
        "id": "2_A_UN22DL6o",
        "outputId": "54e1b39b-33b3-4bce-91d0-b0e20139fb62"
      },
      "execution_count": null,
      "outputs": [
        {
          "output_type": "execute_result",
          "data": {
            "text/plain": [
              "{1, 2, 3, 4, 5}"
            ]
          },
          "metadata": {},
          "execution_count": 15
        }
      ]
    },
    {
      "cell_type": "markdown",
      "source": [
        "20.Write a code to find the intersection of two sets {1, 2, 3} and {2, 3, 4}."
      ],
      "metadata": {
        "id": "4iLk9yEjDxRo"
      }
    },
    {
      "cell_type": "code",
      "source": [
        "B1={1,2,3}\n",
        "B2={2,3,4}\n",
        "B1&B2"
      ],
      "metadata": {
        "colab": {
          "base_uri": "https://localhost:8080/"
        },
        "id": "2UL3oeYbDnPy",
        "outputId": "6db6f392-44db-46be-c73c-e1fda62a5850"
      },
      "execution_count": null,
      "outputs": [
        {
          "output_type": "execute_result",
          "data": {
            "text/plain": [
              "{2, 3}"
            ]
          },
          "metadata": {},
          "execution_count": 16
        }
      ]
    },
    {
      "cell_type": "markdown",
      "source": [
        "21.Write a code to create a dictionary with the keys \"name\", \"age\", and \"city\", and print it"
      ],
      "metadata": {
        "id": "P7wOfNtfEENy"
      }
    },
    {
      "cell_type": "code",
      "source": [
        "My_dict={'Name' :'Pranjal','Age':'22','city':'Nanded'}\n",
        "print('My dictionary is', (My_dict))"
      ],
      "metadata": {
        "colab": {
          "base_uri": "https://localhost:8080/"
        },
        "id": "UHHGmHxqECA0",
        "outputId": "23064373-4005-4057-b5ce-487572528d8f"
      },
      "execution_count": null,
      "outputs": [
        {
          "output_type": "stream",
          "name": "stdout",
          "text": [
            "My dictionary is {'Name': 'Pranjal', 'Age': '22', 'city': 'Nanded'}\n"
          ]
        }
      ]
    },
    {
      "cell_type": "markdown",
      "source": [
        "22.Write a code to add a new key-value pair \"country\": \"USA\" to the dictionary {'name': 'John', 'age': 25}."
      ],
      "metadata": {
        "id": "yrsHWU5LFlYy"
      }
    },
    {
      "cell_type": "code",
      "source": [
        "Dict={'name': 'John', 'age': 25}\n",
        "D={'country':'USA'}\n",
        "Dict.update(D)\n",
        "Dict"
      ],
      "metadata": {
        "colab": {
          "base_uri": "https://localhost:8080/"
        },
        "id": "0K4izFTbE9RJ",
        "outputId": "41eae3be-c4f6-4f53-957f-c06094e8a8c9"
      },
      "execution_count": null,
      "outputs": [
        {
          "output_type": "execute_result",
          "data": {
            "text/plain": [
              "{'name': 'John', 'age': 25, 'country': 'USA'}"
            ]
          },
          "metadata": {},
          "execution_count": 24
        }
      ]
    },
    {
      "cell_type": "markdown",
      "source": [
        "23.Write a code to access the value associated with the key \"name\" in the dictionary {'name': 'Alice', 'age': 30}."
      ],
      "metadata": {
        "id": "zBDmfwXaHgNW"
      }
    },
    {
      "cell_type": "code",
      "source": [
        "My_info={'name': 'Alice', 'age': 30}\n",
        "My_info['name']"
      ],
      "metadata": {
        "colab": {
          "base_uri": "https://localhost:8080/",
          "height": 36
        },
        "id": "PmLOL0ktE5_G",
        "outputId": "7e7a189a-7beb-4183-9a9a-6889f1a35e9e"
      },
      "execution_count": null,
      "outputs": [
        {
          "output_type": "execute_result",
          "data": {
            "text/plain": [
              "'Alice'"
            ],
            "application/vnd.google.colaboratory.intrinsic+json": {
              "type": "string"
            }
          },
          "metadata": {},
          "execution_count": 26
        }
      ]
    },
    {
      "cell_type": "markdown",
      "source": [
        "24. Write a code to remove the key \"age\" from the dictionary {'name': 'Bob', 'age': 22, 'city': 'New York'}."
      ],
      "metadata": {
        "id": "rd1G17ReIDnT"
      }
    },
    {
      "cell_type": "code",
      "source": [
        "Info={'name': 'Bob', 'age': 22, 'city': 'New York'}\n",
        "del Info[\"age\"]\n",
        "Info"
      ],
      "metadata": {
        "colab": {
          "base_uri": "https://localhost:8080/"
        },
        "id": "_hu0EPUPH_RI",
        "outputId": "71eb125c-b871-4cb2-a083-944358bcc996"
      },
      "execution_count": null,
      "outputs": [
        {
          "output_type": "execute_result",
          "data": {
            "text/plain": [
              "{'name': 'Bob', 'city': 'New York'}"
            ]
          },
          "metadata": {},
          "execution_count": 33
        }
      ]
    },
    {
      "cell_type": "markdown",
      "source": [
        "25.Write a code to check if the key \"city\" exists in the dictionary {'name': 'Alice', 'city': 'Paris'}."
      ],
      "metadata": {
        "id": "LyiykFfiJKW8"
      }
    },
    {
      "cell_type": "code",
      "source": [
        "info={'name': 'Alice', 'city': 'Paris'}\n",
        "info[\"city\"]"
      ],
      "metadata": {
        "colab": {
          "base_uri": "https://localhost:8080/",
          "height": 36
        },
        "id": "dFNB6zQJIR4x",
        "outputId": "e857521d-c1ca-47cd-b2c3-2c7921e0212f"
      },
      "execution_count": null,
      "outputs": [
        {
          "output_type": "execute_result",
          "data": {
            "text/plain": [
              "'Paris'"
            ],
            "application/vnd.google.colaboratory.intrinsic+json": {
              "type": "string"
            }
          },
          "metadata": {},
          "execution_count": 34
        }
      ]
    },
    {
      "cell_type": "markdown",
      "source": [
        "26. Write a code to create a list, a tuple, and a dictionary, and print them all."
      ],
      "metadata": {
        "id": "5QonfIyiJzBd"
      }
    },
    {
      "cell_type": "code",
      "source": [
        "List=[1,2,3,4,]\n",
        "tuple=(8,6,7)\n",
        "dictionary={1:(4,4,5)}\n",
        "print(f'the list is{List}, the tuple is{tuple}, the dictionary is{dictionary}')"
      ],
      "metadata": {
        "colab": {
          "base_uri": "https://localhost:8080/"
        },
        "id": "GHKqDFF1JdcM",
        "outputId": "8fa72f8e-5ae5-4454-d95e-d483916d272c"
      },
      "execution_count": null,
      "outputs": [
        {
          "output_type": "stream",
          "name": "stdout",
          "text": [
            "the list is[1, 2, 3, 4], the tuple is(8, 6, 7), the dictionary is{1: (4, 4, 5)}\n"
          ]
        }
      ]
    },
    {
      "cell_type": "markdown",
      "source": [
        "27. Write a code to create a list of 5 random numbers between 1 and 100, sort it in ascending order, and print the\n",
        "result.(replaced)"
      ],
      "metadata": {
        "id": "ZOqlRBg-KsS2"
      }
    },
    {
      "cell_type": "code",
      "source": [
        "num=[85,90,45,99,1]\n",
        "num.sort()\n",
        "num"
      ],
      "metadata": {
        "colab": {
          "base_uri": "https://localhost:8080/"
        },
        "id": "hoIcEDjJJXLk",
        "outputId": "e35af612-801b-4b6f-e6ec-8aa974b6174b"
      },
      "execution_count": null,
      "outputs": [
        {
          "output_type": "execute_result",
          "data": {
            "text/plain": [
              "[1, 45, 85, 90, 99]"
            ]
          },
          "metadata": {},
          "execution_count": 41
        }
      ]
    },
    {
      "cell_type": "code",
      "source": [
        "print(\"The sorted list is\" ,num)"
      ],
      "metadata": {
        "colab": {
          "base_uri": "https://localhost:8080/"
        },
        "id": "-ugHyMsOLPvE",
        "outputId": "2c07b0fd-36b1-4c51-920c-4593ea994f87"
      },
      "execution_count": null,
      "outputs": [
        {
          "output_type": "stream",
          "name": "stdout",
          "text": [
            "The sorted list is [1, 45, 85, 90, 99]\n"
          ]
        }
      ]
    },
    {
      "cell_type": "markdown",
      "source": [
        "28.Write a code to create a list with strings and print the element at the third index."
      ],
      "metadata": {
        "id": "bhRKpnRILirK"
      }
    },
    {
      "cell_type": "code",
      "source": [
        "l=['a','b','c','d','e']\n",
        "l[3]"
      ],
      "metadata": {
        "colab": {
          "base_uri": "https://localhost:8080/",
          "height": 36
        },
        "id": "6ZZK9ah0LfpZ",
        "outputId": "6d97f162-de36-483b-eb11-73a8318dd03c"
      },
      "execution_count": null,
      "outputs": [
        {
          "output_type": "execute_result",
          "data": {
            "text/plain": [
              "'d'"
            ],
            "application/vnd.google.colaboratory.intrinsic+json": {
              "type": "string"
            }
          },
          "metadata": {},
          "execution_count": 43
        }
      ]
    },
    {
      "cell_type": "code",
      "source": [
        "print('The third index is',l[3])"
      ],
      "metadata": {
        "colab": {
          "base_uri": "https://localhost:8080/"
        },
        "id": "lDyFelK0MNRf",
        "outputId": "32e2ff71-f8ab-41f3-d5f2-67a0024d3768"
      },
      "execution_count": null,
      "outputs": [
        {
          "output_type": "stream",
          "name": "stdout",
          "text": [
            "The third index is d\n"
          ]
        }
      ]
    },
    {
      "cell_type": "markdown",
      "source": [
        "29.Write a code to combine two dictionaries into one and print the result"
      ],
      "metadata": {
        "id": "w36n878MMoYN"
      }
    },
    {
      "cell_type": "code",
      "source": [
        "D1={'Name':'Pranjal' , 'Age':22 , 'Subject':'Data Analyst'}\n",
        "d2={'Grade':'A'}\n",
        "D1.update(d2)\n",
        "D1\n",
        "print(f'The combined result is {D1}')"
      ],
      "metadata": {
        "colab": {
          "base_uri": "https://localhost:8080/"
        },
        "id": "fNYe1v9uMOq6",
        "outputId": "2410616d-d45c-449a-f98a-1ee4b74fec89"
      },
      "execution_count": null,
      "outputs": [
        {
          "output_type": "stream",
          "name": "stdout",
          "text": [
            "The combined result is {'Name': 'Pranjal', 'Age': 22, 'Subject': 'Data Analyst', 'Grade': 'A'}\n"
          ]
        }
      ]
    },
    {
      "cell_type": "markdown",
      "source": [
        "30.Write a code to convert a list of strings into a set."
      ],
      "metadata": {
        "id": "-5lxlaYZOlAx"
      }
    },
    {
      "cell_type": "code",
      "source": [
        "list=['Apple','banana','kiwi']\n",
        "New_set=set(list)\n",
        "print(f'The set created is{New_set}')"
      ],
      "metadata": {
        "colab": {
          "base_uri": "https://localhost:8080/"
        },
        "id": "AbFuou6gOO1Y",
        "outputId": "8c69bbfe-e3bf-4532-930d-e89888ed5e49"
      },
      "execution_count": null,
      "outputs": [
        {
          "output_type": "stream",
          "name": "stdout",
          "text": [
            "The set created is{'kiwi', 'banana', 'Apple'}\n"
          ]
        }
      ]
    },
    {
      "cell_type": "code",
      "source": [],
      "metadata": {
        "id": "x2-GX5u2PDx2"
      },
      "execution_count": null,
      "outputs": []
    }
  ]
}